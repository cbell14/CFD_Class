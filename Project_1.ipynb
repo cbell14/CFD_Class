{
 "metadata": {
  "name": "",
  "signature": "sha256:6aadc1ccf4e48681c0eed2c5c55e23687f8610cd9acc3ce2a89aa19d567fb90c"
 },
 "nbformat": 3,
 "nbformat_minor": 0,
 "worksheets": [
  {
   "cells": [
    {
     "cell_type": "code",
     "collapsed": false,
     "input": [
      "from pprint import pprint\n",
      "import numpy as np\n",
      "import math\n",
      "from matplotlib import pyplot as plt\n",
      "from pylab import rcParams\n",
      "rcParams['font.size'] = 16\n",
      "rcParams['figure.figsize'] = (20,16)"
     ],
     "language": "python",
     "metadata": {},
     "outputs": [],
     "prompt_number": 124
    },
    {
     "cell_type": "code",
     "collapsed": false,
     "input": [
      "N_x, N_y = 200, 200\n",
      "x = (np.linspace(0,2*math.pi,N_x))/(2*math.pi)\n",
      "y = (np.linspace(0,2*math.pi,N_y))/(2*math.pi)\n",
      "X, Y = np.meshgrid(x,y)\n",
      "dx_P = 1.0\n",
      "dy_P = 1.0 #sets up face centered points\n",
      "epsilon = 1.0e-6 # Residual goal for P\n",
      "\n",
      "u_e = np.sin(2.0*math.pi*N_x)*np.sin(2.0*math.pi*N_y) #exact solution\n",
      "u = np.ones((N_x,N_y))\n",
      "print(size(u))\n",
      "print(u)"
     ],
     "language": "python",
     "metadata": {},
     "outputs": [
      {
       "output_type": "stream",
       "stream": "stdout",
       "text": [
        "40000\n",
        "[[ 1.  1.  1. ...,  1.  1.  1.]\n",
        " [ 1.  1.  1. ...,  1.  1.  1.]\n",
        " [ 1.  1.  1. ...,  1.  1.  1.]\n",
        " ..., \n",
        " [ 1.  1.  1. ...,  1.  1.  1.]\n",
        " [ 1.  1.  1. ...,  1.  1.  1.]\n",
        " [ 1.  1.  1. ...,  1.  1.  1.]]\n"
       ]
      }
     ],
     "prompt_number": 18
    },
    {
     "cell_type": "markdown",
     "metadata": {},
     "source": [
      "Confused how I'm supposed to do this. seperate for x,y all together??"
     ]
    },
    {
     "cell_type": "code",
     "collapsed": false,
     "input": [
      "def Poisson_solver(dx, dy, u):\n",
      "    \"\"\"Solves the Poisson equation on a 2D grid\n",
      "    Params:\n",
      "    -------\n",
      "    dx_P, dy_P    float, step size in x and y for Pressure\n",
      "    \n",
      "    \n",
      "    Returns:\n",
      "    -------\n",
      "    \n",
      "    \"\"\"\n",
      "    #Dirichlet\n",
      "    \n",
      "    #Neumann\n",
      "    \n",
      "    #initial kickoff for staggered grid dx/dy = 0.5\n",
      "    \n",
      "    #rest of solution\n",
      "    u [j,i] = \n",
      "    return"
     ],
     "language": "python",
     "metadata": {},
     "outputs": []
    },
    {
     "cell_type": "markdown",
     "metadata": {},
     "source": [
      "This is failing because temp is 1x3 it should be 3x1 this makes x1 3x3 i think. Can't get temp to transpose before calculating x1 tho. Solution is also blowing up"
     ]
    },
    {
     "cell_type": "code",
     "collapsed": false,
     "input": [
      "def Jacobi_Solver(A,b,max_iter,sigma):\n",
      "    \"\"\"Uses the jacobi method to solve Ax=b\n",
      "    \n",
      "    Params:\n",
      "    ------\n",
      "    A         square coefficient matrix n by m\n",
      "    b         RHS of matrix n by 1\n",
      "    max_iter  maximum number of iterations before breaking\n",
      "    sigma     desired convergence level\n",
      "    \n",
      "    Returns:\n",
      "    ------\n",
      "    x       solved variable matrix\n",
      "    \"\"\"\n",
      "    \n",
      "    #create intial guess x the size of A's first column\n",
      "    x0 = np.zeros(len(A[0]), dtype=float) \n",
      "    x1 = np.empty(len(A[0]), dtype=float) #ditto\n",
      "    D = np.diag(A)\n",
      "    #need diagflat because python stores D as 1x3\n",
      "    R = A - np.diagflat(D) \n",
      "    k = 0\n",
      "    error = 100.0\n",
      "    L = np.tril(R)\n",
      "    U = np.triu(R)\n",
      "    \n",
      "    while abs(error) > sigma:\n",
      "        if k > max_iter:\n",
      "            print(\"Maximum number of iterations reached\")\n",
      "            break\n",
      "        else:\n",
      "            T = (L + U)/D\n",
      "            C = b/D\n",
      "            x1 = T*x0 + C\n",
      "            #temp = np.dot(R,x0)\n",
      "            #print('this is temp')\n",
      "            #pprint(temp)\n",
      "            #x1 = (b - temp.T)/D\n",
      "            #print('this is x1')\n",
      "            #pprint(x1)\n",
      "            diff = x1 - x0\n",
      "            error = np.linalg.norm(diff, ord=2) \n",
      "            x0 = x1.copy()\n",
      "    return x1\n",
      "\n"
     ],
     "language": "python",
     "metadata": {},
     "outputs": [],
     "prompt_number": 211
    },
    {
     "cell_type": "markdown",
     "metadata": {},
     "source": [
      "Below is having infinte loop issues i think"
     ]
    },
    {
     "cell_type": "code",
     "collapsed": false,
     "input": [
      "def SOR(A,b,omega,max_iter,sigma):\n",
      "    \"\"\"Solves Ax=b using the successive over relaxation method\n",
      "    \n",
      "    Params:\n",
      "    ------\n",
      "    A         square coefficient matrix n by m\n",
      "    b         RHS of matrix n by 1\n",
      "    omega     relaxation parameter\n",
      "    max_iter  maximum number of iterations before breaking\n",
      "    sigma     desired convergence level\n",
      "    \n",
      "    Returns:\n",
      "    ------\n",
      "    x       solved variable matrix\n",
      "    \"\"\"\n",
      "    #generating first guess matrix\n",
      "    x0 = np.zeros(len(A[0]), dtype=float)\n",
      "    x1 = np.zeros(len(A[0]), dtype=float) \n",
      "    L = np.tril(A)\n",
      "    U = np.triu(A)\n",
      "    D = np.diag(A) \n",
      "    k = 0\n",
      "    error = 100.0\n",
      "    \n",
      "    while abs(error) > sigma:\n",
      "        if k > max_iter:\n",
      "            print(\"Maximum number of iterations reached\")\n",
      "            break\n",
      "        else:\n",
      "            x1 = (omega*b - ((omega*U + ((omega -1)*D))*x0))\\\n",
      "                /(D+omega*L)\n",
      "            diff = x1 - x0\n",
      "            error = np.linalg.norm(diff, ord=2) \n",
      "            x0 = x1.copy()\n",
      "    return x1"
     ],
     "language": "python",
     "metadata": {},
     "outputs": [],
     "prompt_number": 184
    },
    {
     "cell_type": "code",
     "collapsed": false,
     "input": [
      "def Conj_Grad(A,b,max_iter,sigma):\n",
      "    \"\"\"Solves Ax=b using the conjugate gradient method\n",
      "    \n",
      "    Params:\n",
      "    ------\n",
      "    A         square coefficient matrix n by m\n",
      "    b         RHS of matrix n by 1\n",
      "    max_iter  maximum number of iterations before breaking\n",
      "    sigma     desired convergence level\n",
      "    \n",
      "    Returns:\n",
      "    ------\n",
      "    x       solved variable matrix\n",
      "    \"\"\"\n",
      "    #initial x guess\n",
      "    x0 = np.zeros(len(A[0]),dtype=float)\n",
      "    #initializing needed vectors\n",
      "    x1 = np.zeros(len(A[0]),dtype=float)\n",
      "    r0 = np.zeros(len(A[0]),dtype=float)\n",
      "   \n",
      "    r0 = b - A*x0 #initial residual\n",
      "    p0 = r0 #for intial loop\n",
      "    k = 0\n",
      "    error = 100.0\n",
      "\n",
      "    while abs(error) > sigma:\n",
      "        if k > max_iter:\n",
      "            print(\"Maximum number of iterations reached\")\n",
      "            break\n",
      "        else:\n",
      "            alpha = np.dot(r0.T,r0)/\\\n",
      "                np.dot(p0.T*A,p0)\n",
      "            x1 = x0 + alpha*p0\n",
      "            r1 = r0 - alpha*A*p0\n",
      "            beta = np.dot(r1.T,r1)/np.dot(r0.T,r0)\n",
      "            p1 = r1 + beta*p0\n",
      "            \n",
      "            r0 = r1.copy()\n",
      "            p0 = p1.copy()\n",
      "    return x1"
     ],
     "language": "python",
     "metadata": {},
     "outputs": [],
     "prompt_number": 199
    },
    {
     "cell_type": "code",
     "collapsed": false,
     "input": [
      "A = np.array([[2.0, 1.0],[5.0, 7.0]])\n",
      "b = np.array([[1.0],[1.0]])\n",
      "#A = np.array([[4., -2., 1.],[1., -3., 2.],[-1., 2., 6.]],\\\n",
      "    #dtype = float)\n",
      "#b = np.array([[1.],[2.],[3.]], dtype = float)"
     ],
     "language": "python",
     "metadata": {},
     "outputs": [],
     "prompt_number": 206
    },
    {
     "cell_type": "code",
     "collapsed": false,
     "input": [
      "max_iter = 25\n",
      "sigma = 1.0*e-6\n",
      "omega = 1.2\n",
      "x_Jac = Jacobi_Solver(A,b,max_iter,sigma)\n",
      "#x_SOR = SOR(A,b,omega,max_iter,sigma)\n",
      "#x_conj = Conj_Grad(A,b,max_iter,sigma)\n",
      "\n",
      "print('Jacobi Result')\n",
      "pprint(x_Jac)\n",
      "\n",
      "#print('SOR Result')\n",
      "#pprint(x_SOR)\n",
      "\n",
      "#print('Conjugate Gradient Result')\n",
      "#pprint(x_conj)\n",
      "\n",
      "x_exact = solve(A,b)\n",
      "print('exact answer')\n",
      "pprint(x_exact)"
     ],
     "language": "python",
     "metadata": {},
     "outputs": [
      {
       "output_type": "stream",
       "stream": "stdout",
       "text": [
        "Jacobi Result\n",
        "array([[ 0.5       ,  0.16666667],\n",
        "       [        inf,  0.14285714]])\n",
        "exact answer\n",
        "array([[ 0.66666667],\n",
        "       [-0.33333333]])\n"
       ]
      }
     ],
     "prompt_number": 212
    },
    {
     "cell_type": "code",
     "collapsed": false,
     "input": [],
     "language": "python",
     "metadata": {},
     "outputs": []
    }
   ],
   "metadata": {}
  }
 ]
}