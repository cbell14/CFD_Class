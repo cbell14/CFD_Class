{
 "cells": [
  {
   "cell_type": "code",
   "execution_count": 1,
   "metadata": {
    "collapsed": false
   },
   "outputs": [],
   "source": [
    "from pprint import pprint\n",
    "import numpy as np\n",
    "from scipy import sparse\n",
    "import math\n",
    "from matplotlib import pyplot as plt"
   ]
  },
  {
   "cell_type": "code",
   "execution_count": 3,
   "metadata": {
    "collapsed": false
   },
   "outputs": [],
   "source": [
    "Nx = 25\n",
    "Ny = 25\n",
    "x = np.linspace(0,1,Nx)\n",
    "y = np.linspace(0,1,Ny)"
   ]
  },
  {
   "cell_type": "code",
   "execution_count": 13,
   "metadata": {
    "collapsed": false
   },
   "outputs": [],
   "source": [
    "def Build_Sparse_A_Neumann(Nx, Ny):\n",
    "    \"\"\"Builds the A matrix for a 5 point stencil Poisson Solver\n",
    "    \n",
    "    Params:\n",
    "    -------\n",
    "    Nx, Ny     float, number of points in x and y\n",
    "    \n",
    "    Returns:\n",
    "    -------\n",
    "    A          Penta-diagonal sparse matrix A\n",
    "    \"\"\"\n",
    "    \n",
    "    A = sparse.diags([-4]*Nx*Ny, 0) #set leading Diaganol\n",
    "    A = A + sparse.diags([1]*(Nx-1)+([0]+[1]*(Nx-1))*(Ny-1), 1) #set first diagonal above main\n",
    "    A = A + sparse.diags([1]*(Nx-1)+([0]+[1]*(Nx-1))*(Ny-1), -1) #set first diagonal below main\n",
    "    A = A + sparse.diags([1]*(Nx*Ny-Nx), Nx) #sets second diagonal above main\n",
    "    A = A + sparse.diags([1]*(Nx*Ny-Nx), -Nx) #sets second diagonal below main\n",
    "    \n",
    "    return A"
   ]
  },
  {
   "cell_type": "code",
   "execution_count": 14,
   "metadata": {
    "collapsed": false
   },
   "outputs": [
    {
     "name": "stdout",
     "output_type": "stream",
     "text": [
      "  (0, 0)\t-4.0\n",
      "  (0, 1)\t1.0\n",
      "  (0, 25)\t1.0\n",
      "  (1, 0)\t1.0\n",
      "  (1, 1)\t-4.0\n",
      "  (1, 2)\t1.0\n",
      "  (1, 26)\t1.0\n",
      "  (2, 1)\t1.0\n",
      "  (2, 2)\t-4.0\n",
      "  (2, 3)\t1.0\n",
      "  (2, 27)\t1.0\n",
      "  (3, 2)\t1.0\n",
      "  (3, 3)\t-4.0\n",
      "  (3, 4)\t1.0\n",
      "  (3, 28)\t1.0\n",
      "  (4, 3)\t1.0\n",
      "  (4, 4)\t-4.0\n",
      "  (4, 5)\t1.0\n",
      "  (4, 29)\t1.0\n",
      "  (5, 4)\t1.0\n",
      "  (5, 5)\t-4.0\n",
      "  (5, 6)\t1.0\n",
      "  (5, 30)\t1.0\n",
      "  (6, 5)\t1.0\n",
      "  (6, 6)\t-4.0\n",
      "  :\t:\n",
      "  (618, 618)\t-4.0\n",
      "  (618, 619)\t1.0\n",
      "  (619, 594)\t1.0\n",
      "  (619, 618)\t1.0\n",
      "  (619, 619)\t-4.0\n",
      "  (619, 620)\t1.0\n",
      "  (620, 595)\t1.0\n",
      "  (620, 619)\t1.0\n",
      "  (620, 620)\t-4.0\n",
      "  (620, 621)\t1.0\n",
      "  (621, 596)\t1.0\n",
      "  (621, 620)\t1.0\n",
      "  (621, 621)\t-4.0\n",
      "  (621, 622)\t1.0\n",
      "  (622, 597)\t1.0\n",
      "  (622, 621)\t1.0\n",
      "  (622, 622)\t-4.0\n",
      "  (622, 623)\t1.0\n",
      "  (623, 598)\t1.0\n",
      "  (623, 622)\t1.0\n",
      "  (623, 623)\t-4.0\n",
      "  (623, 624)\t1.0\n",
      "  (624, 599)\t1.0\n",
      "  (624, 623)\t1.0\n",
      "  (624, 624)\t-4.0\n"
     ]
    }
   ],
   "source": [
    "A = Build_Sparse_A_Neumann(Nx, Ny)\n",
    "print A"
   ]
  },
  {
   "cell_type": "code",
   "execution_count": 8,
   "metadata": {
    "collapsed": false
   },
   "outputs": [],
   "source": [
    "def Poisson_Solver_Dirichlet(x, y, Nx, Ny):\n",
    "    \"\"\"Solves the 2D Poisson equation implicitly on a staggered grid using Dirichlet Boundary Conditions\n",
    "    \n",
    "    Params:\n",
    "    ------\n",
    "    u, v           2D array of float, x and y velocities\n",
    "    Nx, Ny       float, Number of segments in x and y\n",
    "    dt             float, time step size\n",
    "    \n",
    "    Returns:\n",
    "    -------\n",
    "    A           2D array of float, A matrix with Dirichlet conditions\n",
    "    f_RHS       1D array of float, f(x,y) for Dirichlet conditions\n",
    "    \"\"\"\n",
    "\n",
    "    A = np.zeros((Nx*Ny,Nx*Ny),dtype=float)\n",
    "\n",
    "    #Building A\n",
    "    a = Nx * Ny\n",
    "    b = Nx * Ny\n",
    "    c = -4 * (Nx * Ny)\n",
    "    d = Nx * Ny\n",
    "    e = Nx * Ny\n",
    "\n",
    "    #Set corner points\n",
    "    A[0,0] = c\n",
    "    A[-1,-1] = c\n",
    "    A[-1*Ny,-1*Nx] = c\n",
    "    A[Nx-1,Ny-1] = c\n",
    "\n",
    "    #Set edges in first block\n",
    "    for j in range(1,Ny-1):\n",
    "        A[j,j] = c\n",
    "        j +=j\n",
    "\n",
    "    #Set edges in last block\n",
    "    for j in range((Nx*Ny)-Ny,(Nx*Ny)-2):\n",
    "        A[j+1,j+1] = c\n",
    "        j +=j\n",
    "\n",
    "    #Set edges along main diagonal except for first block\n",
    "    for j in range(Nx+1,Ny*Nx):\n",
    "        if j % Nx ==0:\n",
    "            #ADir[j,j] = c_edge\n",
    "            A[j-1,j-1] = c\n",
    "        j +=j\n",
    "\n",
    "    #Set edges on main diagonal except for last block\n",
    "    for j in range(Nx,(Ny*Nx)-Nx):\n",
    "        if j % Nx ==0:\n",
    "            A[j,j] = c\n",
    "            #ANeum[j-1,j-1] = c_edge\n",
    "        j +=j\n",
    "\n",
    "    #Second diagonal above and below diagonal\n",
    "    for j in range(Ny,Ny*Nx):\n",
    "        A[j,j-Ny] = a\n",
    "        A[j-Nx,j] = e\n",
    "        j +=j\n",
    "\n",
    "    #first diagonal below main diagonal   \n",
    "    for j in range(1,Ny*Nx):\n",
    "        if j % Ny ==0:\n",
    "            A[j,j-1] = 0\n",
    "        else:\n",
    "            A[j,j-1] = b\n",
    "        j +=j\n",
    "\n",
    "    #first diagonal above main diagonal\n",
    "    for j in range(0,Ny*Nx):\n",
    "        if j % Nx ==0:\n",
    "            A[j-1,j] = 0\n",
    "        else:\n",
    "            A[j-1,j] = d\n",
    "        j +=j\n",
    "\n",
    "    #Main Diagonal\n",
    "    for j in range(0,Ny*Nx):\n",
    "        if A[j,j] ==0:\n",
    "            A[j,j] = c\n",
    "\n",
    "    f_RHS = np.zeros((Nx*Ny,1), dtype=float)\n",
    "    for i in range(0,Nx-1):\n",
    "        for j in range(0,Ny-1):\n",
    "            f_RHS[i,0] = 2*(1+y[i,j])/((3+x[i,j])**2 + (1+y[i,j])**2)\n",
    "    \n",
    "    return A, f_RHS"
   ]
  },
  {
   "cell_type": "code",
   "execution_count": 13,
   "metadata": {
    "collapsed": false
   },
   "outputs": [],
   "source": [
    "X, Y = np.meshgrid(x,y)\n",
    "A, f_RHS = Poisson_Solver_Dirichlet(X, Y, Nx, Ny)\n",
    "temp = np.linalg.solve(A,f_RHS)\n",
    "p = np.reshape(temp, (Nx,Ny))"
   ]
  },
  {
   "cell_type": "code",
   "execution_count": 15,
   "metadata": {
    "collapsed": false
   },
   "outputs": [
    {
     "data": {
      "image/png": "[encoded data removed]",
      "text/plain": [
       "<matplotlib.figure.Figure at 0x7fb466b6e4d0>"
      ]
     },
     "metadata": {},
     "output_type": "display_data"
    }
   ],
   "source": [
    "%matplotlib inline\n",
    "size=8\n",
    "plt.figure(figsize=(size,size))\n",
    "plt.xlim(0,1)\n",
    "plt.ylim(0,1)\n",
    "plt.xlabel('x')\n",
    "plt.ylabel('y')\n",
    "contf = plt.contourf(X, Y, p)\n",
    "cbar = plt.colorbar(contf)"
   ]
  },
  {
   "cell_type": "code",
   "execution_count": null,
   "metadata": {
    "collapsed": false
   },
   "outputs": [],
   "source": []
  }
 ],
 "metadata": {
  "kernelspec": {
   "display_name": "Python 2",
   "language": "python",
   "name": "python2"
  },
  "language_info": {
   "codemirror_mode": {
    "name": "ipython",
    "version": 2
   },
   "file_extension": ".py",
   "mimetype": "text/x-python",
   "name": "python",
   "nbconvert_exporter": "python",
   "pygments_lexer": "ipython2",
   "version": "2.7.6"
  }
 },
 "nbformat": 4,
 "nbformat_minor": 0
}
